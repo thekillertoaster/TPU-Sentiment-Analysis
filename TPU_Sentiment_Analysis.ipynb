{
  "nbformat": 4,
  "nbformat_minor": 0,
  "metadata": {
    "colab": {
      "provenance": []
    },
    "kernelspec": {
      "name": "python3",
      "display_name": "Python 3"
    },
    "language_info": {
      "name": "python"
    },
    "accelerator": "TPU",
    "gpuClass": "standard"
  },
  "cells": [
    {
      "cell_type": "code",
      "source": [
        "!pip install kaggle\n",
        "!pip install -q -U tensorboard\n",
        "!pip install seaborn"
      ],
      "metadata": {
        "colab": {
          "base_uri": "https://localhost:8080/"
        },
        "id": "Ff2spqGevdEg",
        "outputId": "5504b349-e224-44ff-c4c4-e5793d242a51"
      },
      "execution_count": null,
      "outputs": [
        {
          "output_type": "stream",
          "name": "stdout",
          "text": [
            "Looking in indexes: https://pypi.org/simple, https://us-python.pkg.dev/colab-wheels/public/simple/\n",
            "Requirement already satisfied: kaggle in /usr/local/lib/python3.9/dist-packages (1.5.13)\n",
            "Requirement already satisfied: requests in /usr/local/lib/python3.9/dist-packages (from kaggle) (2.27.1)\n",
            "Requirement already satisfied: tqdm in /usr/local/lib/python3.9/dist-packages (from kaggle) (4.65.0)\n",
            "Requirement already satisfied: six>=1.10 in /usr/local/lib/python3.9/dist-packages (from kaggle) (1.16.0)\n",
            "Requirement already satisfied: certifi in /usr/local/lib/python3.9/dist-packages (from kaggle) (2022.12.7)\n",
            "Requirement already satisfied: urllib3 in /usr/local/lib/python3.9/dist-packages (from kaggle) (1.26.15)\n",
            "Requirement already satisfied: python-slugify in /usr/local/lib/python3.9/dist-packages (from kaggle) (8.0.1)\n",
            "Requirement already satisfied: python-dateutil in /usr/local/lib/python3.9/dist-packages (from kaggle) (2.8.2)\n",
            "Requirement already satisfied: text-unidecode>=1.3 in /usr/local/lib/python3.9/dist-packages (from python-slugify->kaggle) (1.3)\n",
            "Requirement already satisfied: charset-normalizer~=2.0.0 in /usr/local/lib/python3.9/dist-packages (from requests->kaggle) (2.0.12)\n",
            "Requirement already satisfied: idna<4,>=2.5 in /usr/local/lib/python3.9/dist-packages (from requests->kaggle) (3.4)\n",
            "Looking in indexes: https://pypi.org/simple, https://us-python.pkg.dev/colab-wheels/public/simple/\n",
            "Requirement already satisfied: seaborn in /usr/local/lib/python3.9/dist-packages (0.12.2)\n",
            "Requirement already satisfied: matplotlib!=3.6.1,>=3.1 in /usr/local/lib/python3.9/dist-packages (from seaborn) (3.7.1)\n",
            "Requirement already satisfied: pandas>=0.25 in /usr/local/lib/python3.9/dist-packages (from seaborn) (1.4.4)\n",
            "Requirement already satisfied: numpy!=1.24.0,>=1.17 in /usr/local/lib/python3.9/dist-packages (from seaborn) (1.24.2)\n",
            "Requirement already satisfied: kiwisolver>=1.0.1 in /usr/local/lib/python3.9/dist-packages (from matplotlib!=3.6.1,>=3.1->seaborn) (1.4.4)\n",
            "Requirement already satisfied: pillow>=6.2.0 in /usr/local/lib/python3.9/dist-packages (from matplotlib!=3.6.1,>=3.1->seaborn) (8.4.0)\n",
            "Requirement already satisfied: importlib-resources>=3.2.0 in /usr/local/lib/python3.9/dist-packages (from matplotlib!=3.6.1,>=3.1->seaborn) (5.12.0)\n",
            "Requirement already satisfied: fonttools>=4.22.0 in /usr/local/lib/python3.9/dist-packages (from matplotlib!=3.6.1,>=3.1->seaborn) (4.39.2)\n",
            "Requirement already satisfied: contourpy>=1.0.1 in /usr/local/lib/python3.9/dist-packages (from matplotlib!=3.6.1,>=3.1->seaborn) (1.0.7)\n",
            "Requirement already satisfied: cycler>=0.10 in /usr/local/lib/python3.9/dist-packages (from matplotlib!=3.6.1,>=3.1->seaborn) (0.11.0)\n",
            "Requirement already satisfied: pyparsing>=2.3.1 in /usr/local/lib/python3.9/dist-packages (from matplotlib!=3.6.1,>=3.1->seaborn) (3.0.9)\n",
            "Requirement already satisfied: packaging>=20.0 in /usr/local/lib/python3.9/dist-packages (from matplotlib!=3.6.1,>=3.1->seaborn) (23.0)\n",
            "Requirement already satisfied: python-dateutil>=2.7 in /usr/local/lib/python3.9/dist-packages (from matplotlib!=3.6.1,>=3.1->seaborn) (2.8.2)\n",
            "Requirement already satisfied: pytz>=2020.1 in /usr/local/lib/python3.9/dist-packages (from pandas>=0.25->seaborn) (2022.7.1)\n",
            "Requirement already satisfied: zipp>=3.1.0 in /usr/local/lib/python3.9/dist-packages (from importlib-resources>=3.2.0->matplotlib!=3.6.1,>=3.1->seaborn) (3.15.0)\n",
            "Requirement already satisfied: six>=1.5 in /usr/local/lib/python3.9/dist-packages (from python-dateutil>=2.7->matplotlib!=3.6.1,>=3.1->seaborn) (1.16.0)\n"
          ]
        }
      ]
    },
    {
      "cell_type": "code",
      "source": [
        "%load_ext tensorboard"
      ],
      "metadata": {
        "id": "aolatVaLvi9W"
      },
      "execution_count": null,
      "outputs": []
    },
    {
      "cell_type": "code",
      "execution_count": null,
      "metadata": {
        "colab": {
          "base_uri": "https://localhost:8080/"
        },
        "id": "2xLprgEHq0bU",
        "outputId": "90672d06-7f54-431c-a3f3-a622fd2316f6"
      },
      "outputs": [
        {
          "output_type": "stream",
          "name": "stdout",
          "text": [
            "Downloading jigsaw-toxic-comment-classification-challenge.zip to /content\n",
            " 97% 52.0M/53.4M [00:00<00:00, 83.1MB/s]\n",
            "100% 53.4M/53.4M [00:00<00:00, 75.4MB/s]\n"
          ]
        }
      ],
      "source": [
        "# Download classification dataset\n",
        "!mkdir ~/.kaggle\n",
        "!cp kaggle.json ~/.kaggle/\n",
        "!chmod 600 ~/.kaggle/kaggle.json\n",
        "!kaggle datasets download -d julian3833/jigsaw-toxic-comment-classification-challenge\n",
        "!unzip -q /content/jigsaw-toxic-comment-classification-challenge.zip"
      ]
    },
    {
      "cell_type": "code",
      "source": [
        "import os\n",
        "import numpy as np\n",
        "import pandas as pd\n",
        "import tensorflow as tf\n",
        "import matplotlib.pyplot as plt\n",
        "from sklearn.model_selection import train_test_split\n",
        "from sklearn.metrics import roc_auc_score\n",
        "from tensorflow.keras.preprocessing.text import Tokenizer\n",
        "from tensorflow.keras.preprocessing.sequence import pad_sequences\n",
        "from tensorflow.keras.callbacks import ModelCheckpoint\n",
        "from tensorflow.keras.callbacks import TensorBoard\n",
        "import glob"
      ],
      "metadata": {
        "id": "LnqBlEmWsLML"
      },
      "execution_count": null,
      "outputs": []
    },
    {
      "cell_type": "code",
      "source": [
        "resolver = tf.distribute.cluster_resolver.TPUClusterResolver(tpu='grpc://' + os.environ['COLAB_TPU_ADDR'])\n",
        "tf.config.experimental_connect_to_cluster(resolver)\n",
        "tf.tpu.experimental.initialize_tpu_system(resolver)\n",
        "strategy = tf.distribute.experimental.TPUStrategy(resolver)"
      ],
      "metadata": {
        "colab": {
          "base_uri": "https://localhost:8080/"
        },
        "id": "_wbNIt33sQ8Z",
        "outputId": "5798c347-a5ab-4568-cd23-7b090ea458fb"
      },
      "execution_count": null,
      "outputs": [
        {
          "output_type": "stream",
          "name": "stderr",
          "text": [
            "WARNING:tensorflow:TPU system grpc://10.99.227.106:8470 has already been initialized. Reinitializing the TPU can cause previously created variables on TPU to be lost.\n",
            "WARNING:absl:`tf.distribute.experimental.TPUStrategy` is deprecated, please use  the non experimental symbol `tf.distribute.TPUStrategy` instead.\n"
          ]
        }
      ]
    },
    {
      "cell_type": "code",
      "source": [
        "MAX_WORDS = 20000\n",
        "MAX_LEN = 100\n",
        "\n",
        "train = pd.read_csv('train.csv')\n",
        "train_text, val_text, train_labels, val_labels = train_test_split(train['comment_text'], train.iloc[:, 2:], test_size=0.2)\n",
        "\n",
        "tokenizer = Tokenizer(num_words=MAX_WORDS)\n",
        "tokenizer.fit_on_texts(train_text)\n",
        "train_sequences = tokenizer.texts_to_sequences(train_text)\n",
        "val_sequences = tokenizer.texts_to_sequences(val_text)\n",
        "\n",
        "train_data = pad_sequences(train_sequences, maxlen=MAX_LEN)\n",
        "val_data = pad_sequences(val_sequences, maxlen=MAX_LEN)"
      ],
      "metadata": {
        "id": "VY7MiwzLseNQ"
      },
      "execution_count": null,
      "outputs": []
    },
    {
      "cell_type": "code",
      "source": [
        "EMBEDDING_DIM = 128\n",
        "LSTM_UNITS = 64\n",
        "DENSE_UNITS = 50\n",
        "DROPOUT_RATE = 0.1\n",
        "NUM_CLASSES = 6\n",
        "BATCH_SIZE = 128 * strategy.num_replicas_in_sync\n",
        "EPOCHS = 25\n",
        "\n",
        "def create_model():\n",
        "    with strategy.scope():\n",
        "        model = tf.keras.Sequential([\n",
        "            tf.keras.layers.Embedding(MAX_WORDS, EMBEDDING_DIM, input_length=MAX_LEN),\n",
        "            tf.keras.layers.Bidirectional(tf.keras.layers.LSTM(LSTM_UNITS, return_sequences=True)),\n",
        "            tf.keras.layers.GlobalMaxPool1D(),\n",
        "            tf.keras.layers.Dense(DENSE_UNITS, activation='relu'),\n",
        "            tf.keras.layers.Dropout(DROPOUT_RATE),\n",
        "            tf.keras.layers.Dense(NUM_CLASSES, activation='sigmoid')\n",
        "        ])\n",
        "\n",
        "        model.compile(loss='binary_crossentropy', optimizer='adam', metrics=['accuracy'])\n",
        "    return model\n",
        "\n",
        "model = create_model()"
      ],
      "metadata": {
        "id": "yZK5NobosqGe"
      },
      "execution_count": null,
      "outputs": []
    },
    {
      "cell_type": "code",
      "source": [
        "logs_base_dir = \"logs\"\n",
        "os.makedirs(logs_base_dir, exist_ok=True)\n",
        "\n",
        "checkpoint_callback = ModelCheckpoint(\n",
        "    filepath='model_epoch_{epoch:02d}.h5',\n",
        "    save_weights_only=False,\n",
        "    save_freq='epoch'\n",
        ")\n",
        "\n",
        "history = model.fit(\n",
        "    train_data, train_labels, batch_size=BATCH_SIZE, epochs=EPOCHS,\n",
        "    validation_data=(val_data, val_labels),\n",
        "    callbacks=[checkpoint_callback]\n",
        ")"
      ],
      "metadata": {
        "colab": {
          "base_uri": "https://localhost:8080/"
        },
        "id": "49GemfGXsyTG",
        "outputId": "9e7c8e42-e9fb-4734-ea5a-1feab1369c09"
      },
      "execution_count": null,
      "outputs": [
        {
          "output_type": "stream",
          "name": "stdout",
          "text": [
            "Epoch 1/25\n",
            "125/125 [==============================] - 24s 120ms/step - loss: 0.1998 - accuracy: 0.6395 - val_loss: 0.1086 - val_accuracy: 0.8613\n",
            "Epoch 2/25\n",
            "125/125 [==============================] - 9s 76ms/step - loss: 0.0686 - accuracy: 0.8071 - val_loss: 0.0560 - val_accuracy: 0.9941\n",
            "Epoch 3/25\n",
            "125/125 [==============================] - 10s 78ms/step - loss: 0.0511 - accuracy: 0.9019 - val_loss: 0.0510 - val_accuracy: 0.9940\n",
            "Epoch 4/25\n",
            "125/125 [==============================] - 9s 75ms/step - loss: 0.0465 - accuracy: 0.9041 - val_loss: 0.0501 - val_accuracy: 0.9940\n",
            "Epoch 5/25\n",
            "125/125 [==============================] - 10s 76ms/step - loss: 0.0437 - accuracy: 0.9193 - val_loss: 0.0502 - val_accuracy: 0.9940\n",
            "Epoch 6/25\n",
            "125/125 [==============================] - 10s 78ms/step - loss: 0.0415 - accuracy: 0.9312 - val_loss: 0.0530 - val_accuracy: 0.9940\n",
            "Epoch 7/25\n",
            "125/125 [==============================] - 9s 75ms/step - loss: 0.0397 - accuracy: 0.9215 - val_loss: 0.0534 - val_accuracy: 0.9940\n",
            "Epoch 8/25\n",
            "125/125 [==============================] - 9s 75ms/step - loss: 0.0375 - accuracy: 0.9243 - val_loss: 0.0545 - val_accuracy: 0.9936\n",
            "Epoch 9/25\n",
            "125/125 [==============================] - 10s 81ms/step - loss: 0.0363 - accuracy: 0.9125 - val_loss: 0.0575 - val_accuracy: 0.9929\n",
            "Epoch 10/25\n",
            "125/125 [==============================] - 10s 77ms/step - loss: 0.0350 - accuracy: 0.8630 - val_loss: 0.0568 - val_accuracy: 0.9935\n",
            "Epoch 11/25\n",
            "125/125 [==============================] - 9s 76ms/step - loss: 0.0333 - accuracy: 0.8235 - val_loss: 0.0611 - val_accuracy: 0.9799\n",
            "Epoch 12/25\n",
            "125/125 [==============================] - 9s 75ms/step - loss: 0.0317 - accuracy: 0.8029 - val_loss: 0.0629 - val_accuracy: 0.9660\n",
            "Epoch 13/25\n",
            "125/125 [==============================] - 10s 78ms/step - loss: 0.0304 - accuracy: 0.7537 - val_loss: 0.0649 - val_accuracy: 0.9138\n",
            "Epoch 14/25\n",
            "125/125 [==============================] - 9s 75ms/step - loss: 0.0293 - accuracy: 0.6734 - val_loss: 0.0653 - val_accuracy: 0.7859\n",
            "Epoch 15/25\n",
            "125/125 [==============================] - 9s 75ms/step - loss: 0.0281 - accuracy: 0.6190 - val_loss: 0.0693 - val_accuracy: 0.6461\n",
            "Epoch 16/25\n",
            "125/125 [==============================] - 10s 78ms/step - loss: 0.0268 - accuracy: 0.5500 - val_loss: 0.0708 - val_accuracy: 0.6440\n",
            "Epoch 17/25\n",
            "125/125 [==============================] - 10s 78ms/step - loss: 0.0256 - accuracy: 0.5269 - val_loss: 0.0714 - val_accuracy: 0.5561\n",
            "Epoch 18/25\n",
            "125/125 [==============================] - 10s 76ms/step - loss: 0.0250 - accuracy: 0.4753 - val_loss: 0.0751 - val_accuracy: 0.4780\n",
            "Epoch 19/25\n",
            "125/125 [==============================] - 10s 78ms/step - loss: 0.0239 - accuracy: 0.4411 - val_loss: 0.0724 - val_accuracy: 0.4554\n",
            "Epoch 20/25\n",
            "125/125 [==============================] - 10s 79ms/step - loss: 0.0224 - accuracy: 0.4008 - val_loss: 0.0786 - val_accuracy: 0.4273\n",
            "Epoch 21/25\n",
            "125/125 [==============================] - 9s 76ms/step - loss: 0.0210 - accuracy: 0.4002 - val_loss: 0.0811 - val_accuracy: 0.3530\n",
            "Epoch 22/25\n",
            "125/125 [==============================] - 9s 75ms/step - loss: 0.0198 - accuracy: 0.3801 - val_loss: 0.0850 - val_accuracy: 0.3515\n",
            "Epoch 23/25\n",
            "125/125 [==============================] - 10s 77ms/step - loss: 0.0184 - accuracy: 0.3756 - val_loss: 0.0876 - val_accuracy: 0.3695\n",
            "Epoch 24/25\n",
            "125/125 [==============================] - 9s 76ms/step - loss: 0.0171 - accuracy: 0.4124 - val_loss: 0.0955 - val_accuracy: 0.4451\n",
            "Epoch 25/25\n",
            "125/125 [==============================] - 9s 75ms/step - loss: 0.0161 - accuracy: 0.4351 - val_loss: 0.0979 - val_accuracy: 0.4282\n"
          ]
        }
      ]
    },
    {
      "cell_type": "code",
      "source": [
        "%tensorboard --logdir logs"
      ],
      "metadata": {
        "id": "kMnaHPNhzhQ0"
      },
      "execution_count": null,
      "outputs": []
    },
    {
      "cell_type": "code",
      "source": [
        "def plot_history(history):\n",
        "    loss = history.history['loss']\n",
        "    val_loss = history.history['val_loss']\n",
        "    acc = history.history['accuracy']\n",
        "    val_acc = history.history['val_accuracy']\n",
        "\n",
        "    epochs = range(1, len(loss) + 1)\n",
        "\n",
        "    plt.figure(figsize=(12, 5))\n",
        "    \n",
        "    plt.subplot(1, 2, 1)\n",
        "    plt.plot(epochs, loss, 'bo', label='Training loss')\n",
        "    plt.plot(epochs, val_loss, 'b', label='Validation loss')\n",
        "    plt.title('Training and validation loss')\n",
        "    plt.xlabel('Epochs')\n",
        "    plt.ylabel('Loss')\n",
        "    plt.legend()\n",
        "\n",
        "    plt.subplot(1, 2, 2)\n",
        "    plt.plot(epochs, acc, 'bo', label='Training accuracy')\n",
        "    plt.plot(epochs, val_acc, 'b', label='Validation accuracy')\n",
        "    plt.title('Training and validation accuracy')\n",
        "    plt.xlabel('Epochs')\n",
        "    plt.ylabel('Accuracy')\n",
        "    plt.legend()\n",
        "\n",
        "    plt.show()\n",
        "\n",
        "plot_history(history)"
      ],
      "metadata": {
        "colab": {
          "base_uri": "https://localhost:8080/",
          "height": 350
        },
        "id": "kdNMt44Ntgp_",
        "outputId": "0ee44c59-b1af-4c24-ef38-8e34af4ef338"
      },
      "execution_count": null,
      "outputs": [
        {
          "output_type": "display_data",
          "data": {
            "text/plain": [
              "<Figure size 864x360 with 2 Axes>"
            ],
            "image/png": "[encoded data removed]"
          },
          "metadata": {
            "needs_background": "light"
          }
        }
      ]
    },
    {
      "cell_type": "code",
      "source": [
        "def load_latest_model():\n",
        "    list_of_files = glob.glob('model_epoch_*.h5')\n",
        "    latest_model_file = max(list_of_files, key=os.path.getctime)\n",
        "    print(f\"Loading the latest model: {latest_model_file}\")\n",
        "    return tf.keras.models.load_model(latest_model_file)\n",
        "\n",
        "def predict_toxicity(text, tokenizer, model=None):\n",
        "    if model is None:\n",
        "        model = load_latest_model()\n",
        "    sequence = tokenizer.texts_to_sequences([text])\n",
        "    data = pad_sequences(sequence, maxlen=MAX_LEN)\n",
        "    prediction = model.predict(data)\n",
        "    return prediction\n",
        "\n",
        "threshold = 0.5\n",
        "labels = ['toxic', 'severe_toxic', 'obscene', 'threat', 'insult', 'identity_hate']\n",
        "\n",
        "\n",
        "input_text = \"suck shit, bitch\"\n",
        "scores = np.squeeze(predict_toxicity(input_text, tokenizer))\n",
        "predicted_labels = [label for score, label in zip(scores, labels) if score > threshold]\n",
        "print(predicted_labels)\n"
      ],
      "metadata": {
        "colab": {
          "base_uri": "https://localhost:8080/"
        },
        "id": "9gM0nXMptnW7",
        "outputId": "c729776b-579f-4c34-c3f7-87adc8bc2cfc"
      },
      "execution_count": null,
      "outputs": [
        {
          "output_type": "stream",
          "name": "stdout",
          "text": [
            "Loading the latest model: model_epoch_07.h5\n",
            "1/1 [==============================] - 1s 772ms/step\n",
            "['toxic', 'severe_toxic', 'obscene', 'insult']\n"
          ]
        }
      ]
    },
    {
      "cell_type": "code",
      "source": [
        "import pickle\n",
        "\n",
        "with open('tokenizer.pickle', 'wb') as handle:\n",
        "    pickle.dump(tokenizer, handle, protocol=pickle.HIGHEST_PROTOCOL)"
      ],
      "metadata": {
        "id": "zKPD8XPs97_-"
      },
      "execution_count": null,
      "outputs": []
    }
  ]
}